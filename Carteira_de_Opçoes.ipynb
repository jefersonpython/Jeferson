{
  "nbformat": 4,
  "nbformat_minor": 0,
  "metadata": {
    "colab": {
      "name": "Carteira de Opçoes.ipynb",
      "provenance": [],
      "authorship_tag": "ABX9TyO2x/VojhXNnz5sV/qkQUGg",
      "include_colab_link": true
    },
    "kernelspec": {
      "name": "python3",
      "display_name": "Python 3"
    },
    "language_info": {
      "name": "python"
    }
  },
  "cells": [
    {
      "cell_type": "markdown",
      "metadata": {
        "id": "view-in-github",
        "colab_type": "text"
      },
      "source": [
        "<a href=\"https://colab.research.google.com/github/jefersonpython/Jeferson/blob/main/Carteira_de_Op%C3%A7oes.ipynb\" target=\"_parent\"><img src=\"https://colab.research.google.com/assets/colab-badge.svg\" alt=\"Open In Colab\"/></a>"
      ]
    },
    {
      "cell_type": "code",
      "source": [
        "!pip install pandas\n",
        "!pip install pandas_datareader\n",
        "!pip install numpy\n",
        "!pip install yfinance\n",
        "!pip install math\n",
        "!pip intall scipy.stats"
      ],
      "metadata": {
        "colab": {
          "base_uri": "https://localhost:8080/"
        },
        "id": "_Syxk23Dr4Ol",
        "outputId": "d4daf8c3-2e56-4442-dfe8-8a76e6931906"
      },
      "execution_count": 3,
      "outputs": [
        {
          "output_type": "stream",
          "name": "stdout",
          "text": [
            "Requirement already satisfied: pandas in /usr/local/lib/python3.7/dist-packages (1.3.5)\n",
            "Requirement already satisfied: numpy>=1.17.3 in /usr/local/lib/python3.7/dist-packages (from pandas) (1.21.5)\n",
            "Requirement already satisfied: python-dateutil>=2.7.3 in /usr/local/lib/python3.7/dist-packages (from pandas) (2.8.2)\n",
            "Requirement already satisfied: pytz>=2017.3 in /usr/local/lib/python3.7/dist-packages (from pandas) (2018.9)\n",
            "Requirement already satisfied: six>=1.5 in /usr/local/lib/python3.7/dist-packages (from python-dateutil>=2.7.3->pandas) (1.15.0)\n",
            "Requirement already satisfied: pandas_datareader in /usr/local/lib/python3.7/dist-packages (0.9.0)\n",
            "Requirement already satisfied: requests>=2.19.0 in /usr/local/lib/python3.7/dist-packages (from pandas_datareader) (2.27.1)\n",
            "Requirement already satisfied: pandas>=0.23 in /usr/local/lib/python3.7/dist-packages (from pandas_datareader) (1.3.5)\n",
            "Requirement already satisfied: lxml in /usr/local/lib/python3.7/dist-packages (from pandas_datareader) (4.7.1)\n",
            "Requirement already satisfied: python-dateutil>=2.7.3 in /usr/local/lib/python3.7/dist-packages (from pandas>=0.23->pandas_datareader) (2.8.2)\n",
            "Requirement already satisfied: numpy>=1.17.3 in /usr/local/lib/python3.7/dist-packages (from pandas>=0.23->pandas_datareader) (1.21.5)\n",
            "Requirement already satisfied: pytz>=2017.3 in /usr/local/lib/python3.7/dist-packages (from pandas>=0.23->pandas_datareader) (2018.9)\n",
            "Requirement already satisfied: six>=1.5 in /usr/local/lib/python3.7/dist-packages (from python-dateutil>=2.7.3->pandas>=0.23->pandas_datareader) (1.15.0)\n",
            "Requirement already satisfied: idna<4,>=2.5 in /usr/local/lib/python3.7/dist-packages (from requests>=2.19.0->pandas_datareader) (2.10)\n",
            "Requirement already satisfied: charset-normalizer~=2.0.0 in /usr/local/lib/python3.7/dist-packages (from requests>=2.19.0->pandas_datareader) (2.0.11)\n",
            "Requirement already satisfied: urllib3<1.27,>=1.21.1 in /usr/local/lib/python3.7/dist-packages (from requests>=2.19.0->pandas_datareader) (1.24.3)\n",
            "Requirement already satisfied: certifi>=2017.4.17 in /usr/local/lib/python3.7/dist-packages (from requests>=2.19.0->pandas_datareader) (2021.10.8)\n",
            "Requirement already satisfied: numpy in /usr/local/lib/python3.7/dist-packages (1.21.5)\n",
            "Requirement already satisfied: yfinance in /usr/local/lib/python3.7/dist-packages (0.1.70)\n",
            "Requirement already satisfied: numpy>=1.15 in /usr/local/lib/python3.7/dist-packages (from yfinance) (1.21.5)\n",
            "Requirement already satisfied: pandas>=0.24.0 in /usr/local/lib/python3.7/dist-packages (from yfinance) (1.3.5)\n",
            "Requirement already satisfied: multitasking>=0.0.7 in /usr/local/lib/python3.7/dist-packages (from yfinance) (0.0.10)\n",
            "Requirement already satisfied: lxml>=4.5.1 in /usr/local/lib/python3.7/dist-packages (from yfinance) (4.7.1)\n",
            "Requirement already satisfied: requests>=2.26 in /usr/local/lib/python3.7/dist-packages (from yfinance) (2.27.1)\n",
            "Requirement already satisfied: pytz>=2017.3 in /usr/local/lib/python3.7/dist-packages (from pandas>=0.24.0->yfinance) (2018.9)\n",
            "Requirement already satisfied: python-dateutil>=2.7.3 in /usr/local/lib/python3.7/dist-packages (from pandas>=0.24.0->yfinance) (2.8.2)\n",
            "Requirement already satisfied: six>=1.5 in /usr/local/lib/python3.7/dist-packages (from python-dateutil>=2.7.3->pandas>=0.24.0->yfinance) (1.15.0)\n",
            "Requirement already satisfied: idna<4,>=2.5 in /usr/local/lib/python3.7/dist-packages (from requests>=2.26->yfinance) (2.10)\n",
            "Requirement already satisfied: certifi>=2017.4.17 in /usr/local/lib/python3.7/dist-packages (from requests>=2.26->yfinance) (2021.10.8)\n",
            "Requirement already satisfied: urllib3<1.27,>=1.21.1 in /usr/local/lib/python3.7/dist-packages (from requests>=2.26->yfinance) (1.24.3)\n",
            "Requirement already satisfied: charset-normalizer~=2.0.0 in /usr/local/lib/python3.7/dist-packages (from requests>=2.26->yfinance) (2.0.11)\n",
            "\u001b[31mERROR: Could not find a version that satisfies the requirement math (from versions: none)\u001b[0m\n",
            "\u001b[31mERROR: No matching distribution found for math\u001b[0m\n",
            "ERROR: unknown command \"intall\" - maybe you meant \"install\"\n"
          ]
        }
      ]
    },
    {
      "cell_type": "code",
      "execution_count": 5,
      "metadata": {
        "colab": {
          "base_uri": "https://localhost:8080/"
        },
        "id": "Zgj1A4ubrlxT",
        "outputId": "ea807012-e769-42bb-8ad0-6ffdb515e82c"
      },
      "outputs": [
        {
          "output_type": "stream",
          "name": "stdout",
          "text": [
            "\r[*********************100%***********************]  1 of 1 completed\n",
            "***** DADOS DE ENTRADA *****\n",
            "Ativo PETR4.SA\n",
            "Preço 32.630001068115234\n",
            "Strike 32.01\n",
            "Vencimento 2022-02-18\n",
            "Dias até o vencimento 0.005479452054794521\n",
            "Volatilidade 0.3173650185252256\n",
            "Selic 10.65\n",
            "\n",
            "***** DADOS DE SAÍDA *****\n",
            "The Option Price is:  2.4346163363100395\n",
            "delta 0.9995374782167168 \n",
            "gamma 0.002156997634694313 \n",
            "vega 3.993742235348248e-05 \n",
            "theta -3.2153577368447985 \n",
            "sigma 0.0016537146655080897\n"
          ]
        }
      ],
      "source": [
        "from datetime import datetime, date\n",
        "import numpy as np\n",
        "import pandas as pd\n",
        "import pandas_datareader.data as web\n",
        "from dateutil.relativedelta import relativedelta\n",
        "from math import log, sqrt, pi, exp\n",
        "from scipy.stats import norm\n",
        "import yfinance as yf\n",
        "\n",
        "def d1(S,K,T,r,sigma):\n",
        "    return(log(S/K)+(r+sigma**2/2.)*T)/(sigma*sqrt(T))\n",
        "def d2(S,K,T,r,sigma):\n",
        "    return d1(S,K,T,r,sigma)-sigma*sqrt(T)\n",
        "\n",
        "def bs_call(S,K,T,r,sigma):\n",
        "    return S*norm.cdf(d1(S,K,T,r,sigma))-K*exp(-r*T)*norm.cdf(d2(S,K,T,r,sigma))\n",
        "def bs_put(S,K,T,r,sigma):\n",
        "    return K*exp(-r*T)-S+bs_call(S,K,T,r,sigma)\n",
        "\n",
        "def call_delta(S,K,T,r,sigma):\n",
        "    return norm.cdf(d1(S,K,T,r,sigma))\n",
        "def call_gamma(S,K,T,r,sigma):\n",
        "    return norm.pdf(d1(S,K,T,r,sigma))/(S*sigma*sqrt(T))\n",
        "def call_vega(S,K,T,r,sigma):\n",
        "    return 0.01*(S*norm.pdf(d1(S,K,T,r,sigma))*sqrt(T))\n",
        "def call_theta(S,K,T,r,sigma):\n",
        "    return 0.01*(-(S*norm.pdf(d1(S,K,T,r,sigma))*sigma)/(2*sqrt(T)) - r*K*exp(-r*T)*norm.cdf(d2(S,K,T,r,sigma)))\n",
        "def call_rho(S,K,T,r,sigma):\n",
        "    return 0.01*(K*T*exp(-r*T)*norm.cdf(d2(S,K,T,r,sigma)))\n",
        "    \n",
        "def put_delta(S,K,T,r,sigma):\n",
        "    return -norm.cdf(-d1(S,K,T,r,sigma))\n",
        "def put_gamma(S,K,T,r,sigma):\n",
        "    return norm.pdf(d1(S,K,T,r,sigma))/(S*sigma*sqrt(T))\n",
        "def put_vega(S,K,T,r,sigma):\n",
        "    return 0.01*(S*norm.pdf(d1(S,K,T,r,sigma))*sqrt(T))\n",
        "def put_theta(S,K,T,r,sigma):\n",
        "    return 0.01*(-(S*norm.pdf(d1(S,K,T,r,sigma))*sigma)/(2*sqrt(T)) + r*K*exp(-r*T)*norm.cdf(-d2(S,K,T,r,sigma)))\n",
        "def put_rho(S,K,T,r,sigma):\n",
        "    return 0.01*(-K*T*exp(-r*T)*norm.cdf(-d2(S,K,T,r,sigma)))    \n",
        "\n",
        "def call_implied_volatility(Price, S, K, T, r):\n",
        "    sigma = 0.001\n",
        "    while sigma < 1:\n",
        "        Price_implied = S * \\\n",
        "            norm.cdf(d1(S, K, T, r, sigma))-K*exp(-r*T) * \\\n",
        "            norm.cdf(d2(S, K, T, r, sigma))\n",
        "        if Price-(Price_implied) < 0.001:\n",
        "            return sigma\n",
        "        sigma += 0.001\n",
        "    return \"Not Found\"\n",
        "\n",
        "def put_implied_volatility(Price, S, K, T, r):\n",
        "    sigma = 0.001\n",
        "    while sigma < 1:\n",
        "        Price_implied = K*exp(-r*T)-S+bs_call(S, K, T, r, sigma)\n",
        "        if Price-(Price_implied) < 0.001:\n",
        "            return sigma\n",
        "        sigma += 0.001\n",
        "    return \"Not Found\"    \n",
        "\n",
        "stock = 'PETR4.SA'\n",
        "expiry = '2022-02-18'\n",
        "strike_price = 32.01\n",
        "\n",
        "today = datetime.timestamp(datetime.now())\n",
        "one_year_ago = datetime.timestamp(datetime.now() - relativedelta(years=1))\n",
        "\n",
        "df = yf.download(stock, start='2022-01-01',end ='2022-02-06')\n",
        "df = pd.DataFrame(df)\n",
        "\n",
        "df = df.sort_values(by=\"Date\")\n",
        "df = df.dropna()\n",
        "df = df.assign(close_day_before=df.Close.shift(1))\n",
        "df['returns'] = ((df.Close - df.close_day_before)/df.close_day_before)\n",
        "sigma = np.sqrt(252) * df['returns'].std()\n",
        "\n",
        "# SELIC\n",
        "uty = 10.65\n",
        "    \n",
        "lcp = df['Close'].iloc[-1]\n",
        "t = (datetime.strptime(expiry, \"%Y-%m-%d\") - datetime.utcnow()).days / 365\n",
        "\n",
        "S = lcp # fechamento anterior do papel\n",
        "K = strike_price # Strike\n",
        "T = t # tempo\n",
        "r = uty # taxa de juros\n",
        "sigma = sigma # volatilidade\n",
        "\n",
        "print('***** DADOS DE ENTRADA *****')\n",
        "print('Ativo',stock)\n",
        "print('Preço', S)\n",
        "print('Strike',K)\n",
        "print('Vencimento',expiry)\n",
        "print('Dias até o vencimento', T)\n",
        "print('Volatilidade', sigma)\n",
        "print('Selic',r)\n",
        "\n",
        "print('\\n***** DADOS DE SAÍDA *****')\n",
        "print('The Option Price is: ', bs_call(lcp, strike_price, t, uty, sigma))\n",
        "a = call_delta(S,K,T,r,sigma)\n",
        "b = call_gamma(S,K,T,r,sigma)\n",
        "c = call_vega(S,K,T,r,sigma)\n",
        "d = call_theta(S,K,T,r,sigma)\n",
        "e = call_rho(S,K,T,r,sigma)\n",
        "print('delta',a,'\\ngamma',b,'\\nvega',c,'\\ntheta',d,'\\nsigma',e)"
      ]
    }
  ]
}