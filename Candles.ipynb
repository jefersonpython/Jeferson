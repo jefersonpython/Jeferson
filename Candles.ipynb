{
  "nbformat": 4,
  "nbformat_minor": 0,
  "metadata": {
    "colab": {
      "name": "Candles.ipynb",
      "provenance": [],
      "authorship_tag": "ABX9TyPFUEVfftwQHYvFEb6B4qt6",
      "include_colab_link": true
    },
    "kernelspec": {
      "name": "python3",
      "display_name": "Python 3"
    },
    "language_info": {
      "name": "python"
    }
  },
  "cells": [
    {
      "cell_type": "markdown",
      "metadata": {
        "id": "view-in-github",
        "colab_type": "text"
      },
      "source": [
        "<a href=\"https://colab.research.google.com/github/jefersonpython/Jeferson/blob/main/Candles.ipynb\" target=\"_parent\"><img src=\"https://colab.research.google.com/assets/colab-badge.svg\" alt=\"Open In Colab\"/></a>"
      ]
    },
    {
      "cell_type": "code",
      "source": [
        "!pip install investpy"
      ],
      "metadata": {
        "colab": {
          "base_uri": "https://localhost:8080/"
        },
        "id": "GxUM_-dxVnOr",
        "outputId": "5e1a03ef-81cd-4047-e129-bbc6e5080a88"
      },
      "execution_count": null,
      "outputs": [
        {
          "output_type": "stream",
          "name": "stdout",
          "text": [
            "Requirement already satisfied: investpy in /usr/local/lib/python3.7/dist-packages (1.0.8)\n",
            "Requirement already satisfied: lxml>=4.4.1 in /usr/local/lib/python3.7/dist-packages (from investpy) (4.7.1)\n",
            "Requirement already satisfied: numpy>=1.17.2 in /usr/local/lib/python3.7/dist-packages (from investpy) (1.21.5)\n",
            "Requirement already satisfied: setuptools>=41.2.0 in /usr/local/lib/python3.7/dist-packages (from investpy) (57.4.0)\n",
            "Requirement already satisfied: requests>=2.22.0 in /usr/local/lib/python3.7/dist-packages (from investpy) (2.23.0)\n",
            "Requirement already satisfied: Unidecode>=1.1.1 in /usr/local/lib/python3.7/dist-packages (from investpy) (1.3.2)\n",
            "Requirement already satisfied: pytz>=2019.3 in /usr/local/lib/python3.7/dist-packages (from investpy) (2021.3)\n",
            "Requirement already satisfied: pandas>=0.25.1 in /usr/local/lib/python3.7/dist-packages (from investpy) (1.3.5)\n",
            "Requirement already satisfied: python-dateutil>=2.7.3 in /usr/local/lib/python3.7/dist-packages (from pandas>=0.25.1->investpy) (2.8.2)\n",
            "Requirement already satisfied: six>=1.5 in /usr/local/lib/python3.7/dist-packages (from python-dateutil>=2.7.3->pandas>=0.25.1->investpy) (1.15.0)\n",
            "Requirement already satisfied: idna<3,>=2.5 in /usr/local/lib/python3.7/dist-packages (from requests>=2.22.0->investpy) (2.10)\n",
            "Requirement already satisfied: certifi>=2017.4.17 in /usr/local/lib/python3.7/dist-packages (from requests>=2.22.0->investpy) (2021.10.8)\n",
            "Requirement already satisfied: chardet<4,>=3.0.2 in /usr/local/lib/python3.7/dist-packages (from requests>=2.22.0->investpy) (3.0.4)\n",
            "Requirement already satisfied: urllib3!=1.25.0,!=1.25.1,<1.26,>=1.21.1 in /usr/local/lib/python3.7/dist-packages (from requests>=2.22.0->investpy) (1.24.3)\n"
          ]
        }
      ]
    },
    {
      "cell_type": "code",
      "source": [
        "!pip install matplotlib"
      ],
      "metadata": {
        "colab": {
          "base_uri": "https://localhost:8080/"
        },
        "id": "2DqnYK7YWsIn",
        "outputId": "3fc36a09-9429-47f8-a0bf-149e542aa047"
      },
      "execution_count": null,
      "outputs": [
        {
          "output_type": "stream",
          "name": "stdout",
          "text": [
            "Requirement already satisfied: matplotlib in /usr/local/lib/python3.7/dist-packages (3.2.2)\n",
            "Requirement already satisfied: kiwisolver>=1.0.1 in /usr/local/lib/python3.7/dist-packages (from matplotlib) (1.3.2)\n",
            "Requirement already satisfied: python-dateutil>=2.1 in /usr/local/lib/python3.7/dist-packages (from matplotlib) (2.8.2)\n",
            "Requirement already satisfied: numpy>=1.11 in /usr/local/lib/python3.7/dist-packages (from matplotlib) (1.21.5)\n",
            "Requirement already satisfied: cycler>=0.10 in /usr/local/lib/python3.7/dist-packages (from matplotlib) (0.11.0)\n",
            "Requirement already satisfied: pyparsing!=2.0.4,!=2.1.2,!=2.1.6,>=2.0.1 in /usr/local/lib/python3.7/dist-packages (from matplotlib) (3.0.7)\n",
            "Requirement already satisfied: six>=1.5 in /usr/local/lib/python3.7/dist-packages (from python-dateutil>=2.1->matplotlib) (1.15.0)\n"
          ]
        }
      ]
    },
    {
      "cell_type": "code",
      "source": [
        "import matplotlib.pyplot as plt"
      ],
      "metadata": {
        "id": "klPLqj0iXUl-"
      },
      "execution_count": null,
      "outputs": []
    },
    {
      "cell_type": "code",
      "source": [
        "import investpy as inv"
      ],
      "metadata": {
        "id": "usid3p2mX5O_"
      },
      "execution_count": null,
      "outputs": []
    },
    {
      "cell_type": "code",
      "source": [
        "import matplotlib.dates as mdates"
      ],
      "metadata": {
        "id": "2VDN4UPFYPz3"
      },
      "execution_count": null,
      "outputs": []
    },
    {
      "cell_type": "code",
      "source": [
        "!pip install mpl_finance"
      ],
      "metadata": {
        "colab": {
          "base_uri": "https://localhost:8080/"
        },
        "id": "wmMpmZCjYcy6",
        "outputId": "cb3a64d3-435d-45f2-8385-eaf0852e5a81"
      },
      "execution_count": null,
      "outputs": [
        {
          "output_type": "stream",
          "name": "stdout",
          "text": [
            "Collecting mpl_finance\n",
            "  Downloading mpl_finance-0.10.1-py3-none-any.whl (8.4 kB)\n",
            "Requirement already satisfied: matplotlib in /usr/local/lib/python3.7/dist-packages (from mpl_finance) (3.2.2)\n",
            "Requirement already satisfied: pyparsing!=2.0.4,!=2.1.2,!=2.1.6,>=2.0.1 in /usr/local/lib/python3.7/dist-packages (from matplotlib->mpl_finance) (3.0.7)\n",
            "Requirement already satisfied: numpy>=1.11 in /usr/local/lib/python3.7/dist-packages (from matplotlib->mpl_finance) (1.21.5)\n",
            "Requirement already satisfied: cycler>=0.10 in /usr/local/lib/python3.7/dist-packages (from matplotlib->mpl_finance) (0.11.0)\n",
            "Requirement already satisfied: kiwisolver>=1.0.1 in /usr/local/lib/python3.7/dist-packages (from matplotlib->mpl_finance) (1.3.2)\n",
            "Requirement already satisfied: python-dateutil>=2.1 in /usr/local/lib/python3.7/dist-packages (from matplotlib->mpl_finance) (2.8.2)\n",
            "Requirement already satisfied: six>=1.5 in /usr/local/lib/python3.7/dist-packages (from python-dateutil>=2.1->matplotlib->mpl_finance) (1.15.0)\n",
            "Installing collected packages: mpl-finance\n",
            "Successfully installed mpl-finance-0.10.1\n"
          ]
        }
      ]
    },
    {
      "cell_type": "code",
      "source": [
        "from mpl_finance import candlestick_ohlc"
      ],
      "metadata": {
        "id": "ERtcq1f9ZGIE"
      },
      "execution_count": null,
      "outputs": []
    },
    {
      "cell_type": "code",
      "source": [
        "from mpl_finance import candlestick_ohlc"
      ],
      "metadata": {
        "id": "d9UEvPNmZNkR"
      },
      "execution_count": null,
      "outputs": []
    },
    {
      "cell_type": "code",
      "source": [
        "acao2 = 'VALE3'"
      ],
      "metadata": {
        "id": "DWwsHSpoZXL4"
      },
      "execution_count": null,
      "outputs": []
    },
    {
      "cell_type": "code",
      "source": [
        "df_bolsa = inv.get_stock_recent_data(acao2,country='brazil',interval='Daily')"
      ],
      "metadata": {
        "id": "M7-RD7LrZgV7"
      },
      "execution_count": null,
      "outputs": []
    },
    {
      "cell_type": "code",
      "source": [
        "df_bolsa.index.names = ['Data']\n"
      ],
      "metadata": {
        "id": "VutpnwmbaJiE"
      },
      "execution_count": null,
      "outputs": []
    },
    {
      "cell_type": "code",
      "source": [
        "df_bolsa.columns = ['Abertura', 'Maximo', 'Minimo', 'Fechamento', 'Volume', 'Moeda']\n"
      ],
      "metadata": {
        "id": "IdYhVI9WaeVo"
      },
      "execution_count": null,
      "outputs": []
    },
    {
      "cell_type": "code",
      "source": [
        "print(df_bolsa)\n"
      ],
      "metadata": {
        "colab": {
          "base_uri": "https://localhost:8080/"
        },
        "id": "XecoR7qiaiuF",
        "outputId": "3722774b-f335-448b-d911-684506d8bd9d"
      },
      "execution_count": null,
      "outputs": [
        {
          "output_type": "stream",
          "name": "stdout",
          "text": [
            "            Abertura  Maximo  Minimo  Fechamento    Volume Moeda\n",
            "Data                                                            \n",
            "2022-01-03     79.00   79.97   78.00       78.00  18557200   BRL\n",
            "2022-01-04     78.51   79.07   76.90       77.08  18178700   BRL\n",
            "2022-01-05     77.37   78.68   77.13       77.81  22039000   BRL\n",
            "2022-01-06     78.64   80.35   78.31       79.38  22044100   BRL\n",
            "2022-01-07     80.40   84.00   79.79       84.00  35213100   BRL\n",
            "2022-01-10     82.49   84.27   82.30       83.00  25056700   BRL\n",
            "2022-01-11     83.48   85.15   83.31       84.58  28418800   BRL\n",
            "2022-01-12     86.49   86.58   84.93       85.50  27335400   BRL\n",
            "2022-01-13     84.84   85.23   83.70       84.20  23154200   BRL\n",
            "2022-01-14     83.72   84.93   82.91       84.69  21183400   BRL\n",
            "2022-01-17     84.00   84.60   84.00       84.25   9688500   BRL\n",
            "2022-01-18     84.58   86.88   84.48       86.31  24080200   BRL\n",
            "2022-01-19     88.48   89.00   87.88       88.21  29332500   BRL\n",
            "2022-01-20     88.80   88.97   86.64       86.71  22748800   BRL\n",
            "2022-01-21     86.47   86.73   84.34       84.91  32621000   BRL\n",
            "2022-01-24     83.70   83.96   82.08       83.87  29040100   BRL\n",
            "2022-01-25     84.06   85.05   83.05       84.06  22490500   BRL\n",
            "2022-01-26     85.90   86.56   83.82       84.30  25806800   BRL\n",
            "2022-01-27     85.00   85.46   83.27       84.49  20994900   BRL\n",
            "2022-01-28     85.58   86.35   82.83       83.66  28453000   BRL\n",
            "2022-01-31     82.94   82.94   80.87       80.87  31397700   BRL\n",
            "2022-02-01     81.50   85.33   81.37       85.31  24131300   BRL\n",
            "2022-02-02     85.70   85.75   84.77       85.10   1249800   BRL\n"
          ]
        }
      ]
    },
    {
      "cell_type": "code",
      "source": [
        "df_ = df_bolsa.copy(deep=True)\n"
      ],
      "metadata": {
        "id": "tOHREg_Fa4xU"
      },
      "execution_count": null,
      "outputs": []
    },
    {
      "cell_type": "code",
      "source": [
        "df_['Data'] = df_.index.map(mdates.date2num)\n",
        "ohlc = df_[['Data', 'Abertura', 'Maximo', 'Minimo', 'Fechamento']]\n",
        "f1, ax = plt.subplots(figsize=(20, 8))\n",
        "candlestick_ohlc(ax, ohlc.values, width=.6, colorup='green', colordown='black')\n",
        "ax.xaxis.set_major_formatter(mdates.DateFormatter('%Y-%m'))\n",
        "ax.grid(False)\n",
        "ax.legend()\n",
        "\n",
        "plt.title(acao2.upper() + ' : Gráfico Diário')\n",
        "\n",
        "plt.show(block=True)\n",
        "\n",
        "del (df_)"
      ],
      "metadata": {
        "colab": {
          "base_uri": "https://localhost:8080/",
          "height": 516
        },
        "id": "KwoKkIE8bETn",
        "outputId": "8779d6a2-4c81-49e3-c42d-ec28f2394aa9"
      },
      "execution_count": null,
      "outputs": [
        {
          "output_type": "stream",
          "name": "stderr",
          "text": [
            "No handles with labels found to put in legend.\n"
          ]
        },
        {
          "output_type": "display_data",
          "data": {
            "image/png": "[encoded data removed]",
            "text/plain": [
              "<Figure size 1440x576 with 1 Axes>"
            ]
          },
          "metadata": {
            "needs_background": "light"
          }
        }
      ]
    },
    {
      "cell_type": "code",
      "source": [
        ""
      ],
      "metadata": {
        "id": "nUJhpk2fJCtm"
      },
      "execution_count": null,
      "outputs": []
    }
  ]
}